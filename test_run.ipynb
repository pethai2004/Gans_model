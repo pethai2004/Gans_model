{
 "cells": [
  {
   "cell_type": "code",
   "execution_count": 1,
   "id": "c4ad08df",
   "metadata": {},
   "outputs": [],
   "source": [
    "import tensorflow as tf\n",
    "from tensorflow import keras\n",
    "import tensorflow_datasets as tfds\n",
    "import tensorflow_probability as tfp\n",
    "\n",
    "import numpy as np\n",
    "import matplotlib.pyplot as plt\n",
    "\n",
    "import os"
   ]
  },
  {
   "cell_type": "code",
   "execution_count": 2,
   "id": "84e9a540",
   "metadata": {},
   "outputs": [],
   "source": [
    "from model import Discriminator_v1, Generator_v1\n",
    "from datasets import download_celeb_data, chunk_datasets, re_chunk_datasets, DatManipulator\n",
    "from objective import generator_loss_0, discrim_loss_0"
   ]
  },
  {
   "cell_type": "code",
   "execution_count": 171,
   "id": "44b8ec3f",
   "metadata": {},
   "outputs": [],
   "source": [
    "uT = Timer()"
   ]
  },
  {
   "cell_type": "code",
   "execution_count": 3,
   "id": "727fa620",
   "metadata": {},
   "outputs": [],
   "source": [
    "cpus = tf.config.list_physical_devices(\"CPU\")\n",
    "gpus = tf.config.list_physical_devices(\"GPU\")"
   ]
  },
  {
   "cell_type": "code",
   "execution_count": 4,
   "id": "601ef62c",
   "metadata": {},
   "outputs": [],
   "source": [
    "gpus = [None]\n",
    "global_batch_size = 3000\n",
    "per_replica_batch = global_batch_size / len(gpus)\n",
    "init_img_size = (32, 32)\n",
    "targ_img_size = (256, 256)"
   ]
  },
  {
   "cell_type": "code",
   "execution_count": 5,
   "id": "87ca2610",
   "metadata": {},
   "outputs": [
    {
     "name": "stdout",
     "output_type": "stream",
     "text": [
      "WARNING:tensorflow:There are non-GPU devices in `tf.distribute.Strategy`, not using nccl allreduce.\n",
      "INFO:tensorflow:Using MirroredStrategy with devices ('/job:localhost/replica:0/task:0/device:CPU:0',)\n"
     ]
    }
   ],
   "source": [
    "strategy_one = tf.distribute.MirroredStrategy()"
   ]
  },
  {
   "cell_type": "code",
   "execution_count": 42,
   "id": "0ca84641",
   "metadata": {},
   "outputs": [],
   "source": [
    "# download_celeb_data()\n",
    "path = \"./data_celeb\"\n",
    "os.mkdir(path)\n",
    "# chunk_datasets(path, num=8, del_left=True)\n",
    "# re_chunk_datasets(path, num=5, del_left=True, suf_name='fold_chunk_')\n",
    "data_object = DatManipulator(global_batch_size, path, strategy=strategy_one, target_image_size=targ_img_size, \n",
    "                             chunk_first=False, non_stop=True)\n"
   ]
  },
  {
   "cell_type": "code",
   "execution_count": 35,
   "id": "ea5cc4db",
   "metadata": {},
   "outputs": [],
   "source": [
    "G = Generator_v1(init_img_size, targ_img_size, \"deconv\", latent_space=256)\n",
    "D = Discriminator_v1(init_img_size, targ_img_size)\n",
    "\n",
    "\n",
    "G.initialize_base(filters=(200, 200, 300, 400, 300))\n",
    "D.initialize_base(filters=(200, 200, 300, 200, 100), units_dense=(130, ))"
   ]
  },
  {
   "cell_type": "code",
   "execution_count": 36,
   "id": "d5a0198a",
   "metadata": {
    "collapsed": true
   },
   "outputs": [
    {
     "name": "stdout",
     "output_type": "stream",
     "text": [
      "Model: \"model_20\"\n",
      "_________________________________________________________________\n",
      " Layer (type)                Output Shape              Param #   \n",
      "=================================================================\n",
      " input_23 (InputLayer)       [(None, 256)]             0         \n",
      "                                                                 \n",
      " map_z0 (Dense)              (None, 128)               32896     \n",
      "                                                                 \n",
      " map_z1 (Dense)              (None, 128)               16512     \n",
      "                                                                 \n",
      " map_z2 (Dense)              (None, 128)               16512     \n",
      "                                                                 \n",
      " map_z3 (Dense)              (None, 200)               25800     \n",
      "                                                                 \n",
      " batch_normalization_118 (Ba  (None, 200)              800       \n",
      " tchNormalization)                                               \n",
      "                                                                 \n",
      " tf.cast_118 (TFOpLambda)    (None, 200)               0         \n",
      "                                                                 \n",
      " reshape_mapper (Reshape)    (None, 1, 1, 200)         0         \n",
      "                                                                 \n",
      " conv2d_transpose_60 (Conv2D  (None, 2, 2, 200)        1000200   \n",
      " Transpose)                                                      \n",
      "                                                                 \n",
      " batch_normalization_119 (Ba  (None, 2, 2, 200)        800       \n",
      " tchNormalization)                                               \n",
      "                                                                 \n",
      " tf.cast_119 (TFOpLambda)    (None, 2, 2, 200)         0         \n",
      "                                                                 \n",
      " conv2d_transpose_61 (Conv2D  (None, 4, 4, 200)        1000200   \n",
      " Transpose)                                                      \n",
      "                                                                 \n",
      " batch_normalization_120 (Ba  (None, 4, 4, 200)        800       \n",
      " tchNormalization)                                               \n",
      "                                                                 \n",
      " tf.cast_120 (TFOpLambda)    (None, 4, 4, 200)         0         \n",
      "                                                                 \n",
      " conv2d_transpose_62 (Conv2D  (None, 8, 8, 300)        1500300   \n",
      " Transpose)                                                      \n",
      "                                                                 \n",
      " batch_normalization_121 (Ba  (None, 8, 8, 300)        1200      \n",
      " tchNormalization)                                               \n",
      "                                                                 \n",
      " tf.cast_121 (TFOpLambda)    (None, 8, 8, 300)         0         \n",
      "                                                                 \n",
      " conv2d_transpose_63 (Conv2D  (None, 16, 16, 400)      3000400   \n",
      " Transpose)                                                      \n",
      "                                                                 \n",
      " batch_normalization_122 (Ba  (None, 16, 16, 400)      1600      \n",
      " tchNormalization)                                               \n",
      "                                                                 \n",
      " tf.cast_122 (TFOpLambda)    (None, 16, 16, 400)       0         \n",
      "                                                                 \n",
      " conv2d_transpose_64 (Conv2D  (None, 32, 32, 300)      3000300   \n",
      " Transpose)                                                      \n",
      "                                                                 \n",
      " batch_normalization_123 (Ba  (None, 32, 32, 300)      1200      \n",
      " tchNormalization)                                               \n",
      "                                                                 \n",
      " tf.cast_123 (TFOpLambda)    (None, 32, 32, 300)       0         \n",
      "                                                                 \n",
      " conv2d_58 (Conv2D)          (None, 32, 32, 3)         22503     \n",
      "                                                                 \n",
      "=================================================================\n",
      "Total params: 9,622,023\n",
      "Trainable params: 9,618,823\n",
      "Non-trainable params: 3,200\n",
      "_________________________________________________________________\n"
     ]
    }
   ],
   "source": [
    "G.model.summary()"
   ]
  },
  {
   "cell_type": "code",
   "execution_count": 37,
   "id": "3397fcf7",
   "metadata": {},
   "outputs": [],
   "source": [
    "with strategy_one.scope():\n",
    "    G_opt = tf.keras.optimizers.RMSprop(0.0001)\n",
    "    D_opt = tf.keras.optimizers.RMSprop(0.0001)"
   ]
  },
  {
   "cell_type": "code",
   "execution_count": 43,
   "id": "4d5c8257",
   "metadata": {},
   "outputs": [],
   "source": [
    "@tf.function\n",
    "def train_step(global_train_step, true_img_k, D, G, z_k, clip_norm=3, log_dir=\"TrainLog\", snap_short=None,\n",
    "              extended_model=False):\n",
    "    if extended_model:\n",
    "        assert \n",
    "        \n",
    "    with tf.GradientTape() as D_tape:\n",
    "        disc_L, disc_g_loss = discrim_loss_0(z=z_k, G=G, D=D, train_sets=true_img_k, g_penalty=grad_penalty)\n",
    "    disc_G = D_tape.gradient(disc_L, D.model.trainable_variables)\n",
    "    \n",
    "    with tf.GradientTape() as G_tape:\n",
    "        gen_L = generator_loss_0(z=z_k, G=G, D=D, train_sets=true_img_k)\n",
    "    gen_G = G_tape.gradient(gen_L, G.model.trainable_variables)\n",
    "    \n",
    "    if clip_norm:\n",
    "        disc_G = tf.clip_by_global_norm(disc_G, clip_norm, name='clip_norm_D')\n",
    "        gen_G = tf.clip_by_global_norm(gen_G, clip_norm, name='clip_norm_G')\n",
    "        \n",
    "    D_opt.apply_gradients(zip(disc_G, D.model.trainable_variables))\n",
    "    G_opt.apply_gradients(zip(gen_G, G.model.trainable_variables))\n",
    "    \n",
    "    grad_G_norm = tf.linalg.global_norm(gen_G)\n",
    "    grad_D_norm = tf.linalg.global_norm(disc_G)\n",
    "    \n",
    "    with tf.name_scope(\"MainLoss\"):\n",
    "        tf.summary.scalar(\"G_Loss\", tf.reduce_mean(disc_L), global_train_step)\n",
    "        tf.summary.scalar(\"D_Loss\", tf.reduce_mean(gen_L), global_train_step)\n",
    "        tf.summary.scalar(\"G_grad_norm\", tf.reduce_mean(grad_G_norm), global_train_step)\n",
    "        tf.summary.scalar(\"D_grad_norm\", tf.reduce_mean(grad_D_norm), global_train_step)\n",
    "    \n",
    "                          \n",
    "    with tf.name_scope(\"SupLoss\"):\n",
    "        tf.summary.scalar(\"grad_D_penalty\", tf.reduce_mean(disc_g_loss), global_train_step)\n",
    "        if snap_short:\n",
    "            raise NotImplementedError\n",
    "            snap_image = None\n",
    "            tf.summary.image(\"generated_image\", snap_image, global_train_step, max_outputs=3)"
   ]
  },
  {
   "cell_type": "code",
   "execution_count": 45,
   "id": "b1f6346a",
   "metadata": {},
   "outputs": [],
   "source": [
    "def run():\n",
    "    for k_k in range(1):\n",
    "        z_prior = tf.random.normal()\n",
    "        g_k_loss, d_k_loss, im_geg = strategy_one.run(train_step, args=(next(iter(data_object)), D, G))\n",
    "        tf.print(k_k, 'generator_loss : ', tf.reduce_mean(g_k_loss), 'discriminator_loss : ', tf.reduce_mean(d_k_loss))\n",
    "    "
   ]
  },
  {
   "cell_type": "code",
   "execution_count": null,
   "id": "b1cf14da",
   "metadata": {},
   "outputs": [],
   "source": [
    "tf.random.normal()"
   ]
  },
  {
   "cell_type": "code",
   "execution_count": 49,
   "id": "a4ab045e",
   "metadata": {},
   "outputs": [
    {
     "data": {
      "text/plain": [
       "<tf.Tensor: shape=(), dtype=float64, numpy=4.919951820182957>"
      ]
     },
     "execution_count": 49,
     "metadata": {},
     "output_type": "execute_result"
    }
   ],
   "source": [
    "tf.linalg.global_norm([np.random.rand(3, 10), np.random.rand(3, 12)])"
   ]
  },
  {
   "cell_type": "code",
   "execution_count": 100,
   "id": "08dabd3e",
   "metadata": {},
   "outputs": [],
   "source": [
    "u = 3000"
   ]
  },
  {
   "cell_type": "code",
   "execution_count": 101,
   "id": "af7d4ddc",
   "metadata": {},
   "outputs": [],
   "source": [
    "u -= u - (u // 2)"
   ]
  },
  {
   "cell_type": "code",
   "execution_count": 102,
   "id": "33b0de97",
   "metadata": {},
   "outputs": [
    {
     "data": {
      "text/plain": [
       "1500"
      ]
     },
     "execution_count": 102,
     "metadata": {},
     "output_type": "execute_result"
    }
   ],
   "source": [
    "u"
   ]
  },
  {
   "cell_type": "code",
   "execution_count": 103,
   "id": "1f962a52",
   "metadata": {},
   "outputs": [
    {
     "data": {
      "text/plain": [
       "2996"
      ]
     },
     "execution_count": 103,
     "metadata": {},
     "output_type": "execute_result"
    }
   ],
   "source": [
    "428 * 7"
   ]
  },
  {
   "cell_type": "code",
   "execution_count": null,
   "id": "11111c84",
   "metadata": {},
   "outputs": [],
   "source": []
  }
 ],
 "metadata": {
  "kernelspec": {
   "display_name": "Python 3 (ipykernel)",
   "language": "python",
   "name": "python3"
  },
  "language_info": {
   "codemirror_mode": {
    "name": "ipython",
    "version": 3
   },
   "file_extension": ".py",
   "mimetype": "text/x-python",
   "name": "python",
   "nbconvert_exporter": "python",
   "pygments_lexer": "ipython3",
   "version": "3.8.13"
  }
 },
 "nbformat": 4,
 "nbformat_minor": 5
}
