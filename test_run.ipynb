{
 "cells": [
  {
   "cell_type": "code",
   "execution_count": 1,
   "id": "c4ad08df",
   "metadata": {},
   "outputs": [],
   "source": [
    "import tensorflow as tf\n",
    "from tensorflow import keras\n",
    "import tensorflow_datasets as tfds\n",
    "import tensorflow_probability as tfp\n",
    "\n",
    "import numpy as np\n",
    "import matplotlib.pyplot as plt\n",
    "\n",
    "import os"
   ]
  },
  {
   "cell_type": "code",
   "execution_count": 2,
   "id": "84e9a540",
   "metadata": {},
   "outputs": [],
   "source": [
    "from model import *\n",
    "from datasets import download_celeb_data, chunk_datasets, re_chunk_datasets, DatManipulator\n",
    "from objective import generator_loss_0, discrim_loss_0\n",
    "from utils import pre_build_G, pre_build_D, DefaultConfig\n",
    "from run_experiment import Trainer"
   ]
  },
  {
   "cell_type": "code",
   "execution_count": null,
   "id": "dce33821",
   "metadata": {},
   "outputs": [],
   "source": [
    "# download_celeb_data()\n",
    "#chunk_datasets(dir_path=\"data/img_align_celeba\", num=5, del_left=True)"
   ]
  },
  {
   "cell_type": "code",
   "execution_count": null,
   "id": "032de131",
   "metadata": {},
   "outputs": [],
   "source": [
    "train_config = DefaultConfig\n",
    "g_config = pre_build_G\n",
    "d_config = pre_build_D\n",
    "\n",
    "train_config.epochs = 100\n",
    "train_config.n_gpu = [\"/GPU:0\", \"/GPU:1\", \"/GPU:2\", \"/GPU:3\"]\n",
    "\n",
    "img_size = (32, 32)\n",
    "targ_img_size = (128, 128)\n",
    "global_batch = 2000"
   ]
  },
  {
   "cell_type": "code",
   "execution_count": null,
   "id": "28f642e5",
   "metadata": {},
   "outputs": [],
   "source": [
    "generator = Generator_v0(img_size, \n",
    "                         targ_img_size, \n",
    "                         train_config.latent_z_dim,\n",
    "                         up_type='deconv',\n",
    "                         name='generator_test',)\n",
    "generator.configbuild = g_config\n",
    "discriminator = Discriminator_v0(img_size,\n",
    "                                targ_img_size,\n",
    "                                train_config.latent_z_dim,\n",
    "                                name=\"discriminator_test\",\n",
    "                                extendable=False,\n",
    "                                resizing=True)\n",
    "discriminator.configbuild = d_config"
   ]
  },
  {
   "cell_type": "code",
   "execution_count": null,
   "id": "7157a91d",
   "metadata": {},
   "outputs": [],
   "source": [
    "trainer = Trainer(G=generator,\n",
    "                 D=discriminator,\n",
    "                 global_batch=global_batch,\n",
    "                 log_dir=\"TrainGans01\",\n",
    "                 stopdata=True,\n",
    "                 seed=1001,\n",
    "                 TrainDict=train_config,\n",
    "                 snap_short=True, \n",
    "                 dataset_dir=\"data/img_align_celeba\")"
   ]
  },
  {
   "cell_type": "code",
   "execution_count": null,
   "id": "c5b5d99e",
   "metadata": {},
   "outputs": [],
   "source": [
    "trainer.initialize_trainer()"
   ]
  }
 ],
 "metadata": {
  "kernelspec": {
   "display_name": "Python 3 (ipykernel)",
   "language": "python",
   "name": "python3"
  },
  "language_info": {
   "codemirror_mode": {
    "name": "ipython",
    "version": 3
   },
   "file_extension": ".py",
   "mimetype": "text/x-python",
   "name": "python",
   "nbconvert_exporter": "python",
   "pygments_lexer": "ipython3",
   "version": "3.8.13"
  },
  "vscode": {
   "interpreter": {
    "hash": "44a9cdcbdccbf05a880e90d2e6fe72470baab4d1b82472d890be0596ed887a6b"
   }
  }
 },
 "nbformat": 4,
 "nbformat_minor": 5
}
