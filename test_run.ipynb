{
 "cells": [
  {
   "cell_type": "code",
   "execution_count": 1,
   "id": "c4ad08df",
   "metadata": {},
   "outputs": [],
   "source": [
    "import tensorflow as tf\n",
    "from tensorflow import keras\n",
    "import tensorflow_datasets as tfds\n",
    "import tensorflow_probability as tfp\n",
    "\n",
    "import numpy as np\n",
    "import matplotlib.pyplot as plt\n",
    "%load_ext tensorboard\n",
    " "
   ]
  },
  {
   "cell_type": "code",
   "execution_count": 2,
   "id": "ab6c7547",
   "metadata": {},
   "outputs": [],
   "source": [
    "from utils import *\n",
    "from datasets import *\n",
    "from run import *\n",
    "from run_experiment import *\n",
    "from run_schedule import *\n",
    "from model import *"
   ]
  },
  {
   "cell_type": "code",
   "execution_count": 4,
   "id": "a88fcb41",
   "metadata": {
    "scrolled": true
   },
   "outputs": [
    {
     "name": "stdout",
     "output_type": "stream",
     "text": [
      "WARNING:tensorflow:Some requested devices in `tf.distribute.Strategy` are not visible to TensorFlow: /job:localhost/replica:0/task:0/device:GPU:1,/job:localhost/replica:0/task:0/device:GPU:0\n",
      "INFO:tensorflow:Using MirroredStrategy with devices ('/job:localhost/replica:0/task:0/device:GPU:0', '/job:localhost/replica:0/task:0/device:GPU:1')\n",
      "WARNING:tensorflow:Trace already enabled\n"
     ]
    }
   ],
   "source": [
    "dataset_dir = 'data/img_align_celeba'\n",
    "log_dir = 'TrainLog01'\n",
    "train_cf = test_train_config\n",
    "g0_config = test_g_config\n",
    "d0_config = test_d_config\n",
    "train_cf.img_size= (16, 16)\n",
    "train_cf.targ_img_size = (16, 16)\n",
    "train_cf.applied_G_method = None\n",
    "# train_cf.targ_img_size = (16, 16)\n",
    "G_ = Generator_v0(img_size=train_cf.img_size, \n",
    "                targ_img_size=train_cf.targ_img_size, \n",
    "                z_dim=train_cf.latent_z_dim,\n",
    "                apply_resize=train_cf.applied_G_method,\n",
    "                 configbuild=g0_config)\n",
    "\n",
    "D_ = Discriminator_v1(img_size=train_cf.img_size,\n",
    "                    targ_img_size=train_cf.targ_img_size,\n",
    "                    apply_resize=train_cf.applied_D_method,\n",
    "                     configbuild=d0_config)\n",
    "\n",
    "trainer = Trainer(G_, D_, \n",
    "                global_batch=50, \n",
    "                dataset_dir=dataset_dir,\n",
    "                alpha_decay=True, \n",
    "                log_dir=log_dir,\n",
    "                 TrainDict=train_cf)\n",
    "\n",
    "trainer.initialize_trainer()"
   ]
  },
  {
   "cell_type": "code",
   "execution_count": 5,
   "id": "2c510530",
   "metadata": {},
   "outputs": [],
   "source": [
    "import pickle"
   ]
  },
  {
   "cell_type": "code",
   "execution_count": 13,
   "id": "4c926b49",
   "metadata": {},
   "outputs": [],
   "source": [
    "u = DefaultConfig(epochs=2, D_lr=1)"
   ]
  },
  {
   "cell_type": "code",
   "execution_count": 11,
   "id": "d3c56e99",
   "metadata": {},
   "outputs": [
    {
     "data": {
      "text/plain": [
       "2"
      ]
     },
     "execution_count": 11,
     "metadata": {},
     "output_type": "execute_result"
    }
   ],
   "source": [
    "u.epochs"
   ]
  },
  {
   "cell_type": "code",
   "execution_count": null,
   "id": "2101b9f9",
   "metadata": {},
   "outputs": [],
   "source": []
  }
 ],
 "metadata": {
  "kernelspec": {
   "display_name": "Python 3 (ipykernel)",
   "language": "python",
   "name": "python3"
  },
  "language_info": {
   "codemirror_mode": {
    "name": "ipython",
    "version": 3
   },
   "file_extension": ".py",
   "mimetype": "text/x-python",
   "name": "python",
   "nbconvert_exporter": "python",
   "pygments_lexer": "ipython3",
   "version": "3.8.13"
  },
  "vscode": {
   "interpreter": {
    "hash": "44a9cdcbdccbf05a880e90d2e6fe72470baab4d1b82472d890be0596ed887a6b"
   }
  }
 },
 "nbformat": 4,
 "nbformat_minor": 5
}
